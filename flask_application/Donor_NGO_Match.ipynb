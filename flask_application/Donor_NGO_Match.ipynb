{
  "nbformat": 4,
  "nbformat_minor": 0,
  "metadata": {
    "colab": {
      "provenance": []
    },
    "kernelspec": {
      "name": "python3",
      "display_name": "Python 3"
    },
    "language_info": {
      "name": "python"
    }
  },
  "cells": [
    {
      "cell_type": "code",
      "source": [
        "!pip install scikit-learn"
      ],
      "metadata": {
        "colab": {
          "base_uri": "https://localhost:8080/"
        },
        "id": "5Uzs8caL_pV5",
        "outputId": "be64f11c-f485-4423-87d1-53578718fada"
      },
      "execution_count": 1,
      "outputs": [
        {
          "output_type": "stream",
          "name": "stdout",
          "text": [
            "Requirement already satisfied: scikit-learn in /usr/local/lib/python3.11/dist-packages (1.6.1)\n",
            "Requirement already satisfied: numpy>=1.19.5 in /usr/local/lib/python3.11/dist-packages (from scikit-learn) (2.0.2)\n",
            "Requirement already satisfied: scipy>=1.6.0 in /usr/local/lib/python3.11/dist-packages (from scikit-learn) (1.15.3)\n",
            "Requirement already satisfied: joblib>=1.2.0 in /usr/local/lib/python3.11/dist-packages (from scikit-learn) (1.5.1)\n",
            "Requirement already satisfied: threadpoolctl>=3.1.0 in /usr/local/lib/python3.11/dist-packages (from scikit-learn) (3.6.0)\n"
          ]
        }
      ]
    },
    {
      "cell_type": "code",
      "execution_count": 2,
      "metadata": {
        "colab": {
          "base_uri": "https://localhost:8080/"
        },
        "id": "x1UiBa8VzjSt",
        "outputId": "a57a9055-bc9a-46e7-c211-34041ef4245b"
      },
      "outputs": [
        {
          "output_type": "stream",
          "name": "stdout",
          "text": [
            "✅ Dataset saved with shape: (1000, 9)\n"
          ]
        }
      ],
      "source": [
        "import pandas as pd\n",
        "import numpy as np\n",
        "\n",
        "np.random.seed(42)  # reproducibility\n",
        "\n",
        "def generate_donor_ngo_data_v2(n=1000):\n",
        "    data = []\n",
        "    for _ in range(n):\n",
        "        distance = round(np.random.uniform(0.5, 20.0), 2)\n",
        "        ngo_capacity = np.random.randint(10, 101)\n",
        "\n",
        "        # Food quantity up to 2x NGO capacity\n",
        "        food_quantity = np.random.randint(1, int(2 * ngo_capacity) + 1)\n",
        "\n",
        "        food_type = np.random.choice([\"veg\", \"nonveg\"])\n",
        "        food_category = np.random.choice([\"cooked\", \"grocery\"], p=[0.5, 0.5])\n",
        "        accepts_nonveg = np.random.choice([0, 1], p=[0.4, 0.6])\n",
        "\n",
        "        # Compatibility logic\n",
        "        type_compatible = 1 if (food_type == \"veg\" or accepts_nonveg == 1) else 0\n",
        "\n",
        "        # Expiry based on food category\n",
        "        if food_category == \"cooked\":\n",
        "            time_until_expiry = np.random.randint(1, 13)\n",
        "        else:  # grocery\n",
        "            time_until_expiry = np.random.randint(6, 37)\n",
        "\n",
        "        match_successful = 1 if (\n",
        "            distance < 10 and\n",
        "            food_quantity <= 1.5 * ngo_capacity and\n",
        "            type_compatible == 1 and\n",
        "            time_until_expiry >= 4\n",
        "        ) else 0\n",
        "\n",
        "        data.append([\n",
        "            distance, food_quantity, ngo_capacity, food_type, food_category,\n",
        "            accepts_nonveg, type_compatible, time_until_expiry, match_successful\n",
        "        ])\n",
        "\n",
        "    columns = [\n",
        "        \"distance_km\", \"food_quantity\", \"ngo_capacity\", \"food_type\",\n",
        "        \"food_category\", \"accepts_nonveg\", \"type_compatible\",\n",
        "        \"time_until_expiry_hrs\", \"match_successful\"\n",
        "    ]\n",
        "\n",
        "    return pd.DataFrame(data, columns=columns)\n",
        "\n",
        "# Usage\n",
        "df = generate_donor_ngo_data_v2(1000)\n",
        "df.to_csv(\"donor_ngo_final_dataset_v2.csv\", index=False)\n",
        "print(\"✅ Dataset saved with shape:\", df.shape)\n"
      ]
    },
    {
      "cell_type": "code",
      "source": [
        "import pandas as pd\n",
        "from sklearn.model_selection import train_test_split\n",
        "from sklearn.ensemble import RandomForestClassifier\n",
        "from sklearn.preprocessing import OneHotEncoder\n",
        "from sklearn.compose import ColumnTransformer\n",
        "from sklearn.pipeline import Pipeline\n",
        "from sklearn.metrics import classification_report\n",
        "import joblib\n",
        "\n",
        "# Load dataset\n",
        "df = pd.read_csv(\"donor_ngo_final_dataset_v2.csv\")\n",
        "\n",
        "# Drop the type_compatible column (automatically derived during generation)\n",
        "X = df.drop(columns=[\"match_successful\", \"type_compatible\"])\n",
        "y = df[\"match_successful\"]\n",
        "\n",
        "# Categorical and numerical features\n",
        "categorical_features = [\"food_type\", \"food_category\"]\n",
        "numerical_features = [col for col in X.columns if col not in categorical_features]\n",
        "\n",
        "# Preprocessing pipeline\n",
        "preprocessor = ColumnTransformer(\n",
        "    transformers=[\n",
        "        (\"cat\", OneHotEncoder(handle_unknown=\"ignore\"), categorical_features)\n",
        "    ],\n",
        "    remainder=\"passthrough\"\n",
        ")\n",
        "\n",
        "# Full pipeline\n",
        "clf = Pipeline(steps=[\n",
        "    (\"preprocessor\", preprocessor),\n",
        "    (\"classifier\", RandomForestClassifier(n_estimators=100, random_state=42))\n",
        "])\n",
        "\n",
        "# Train/test split\n",
        "X_train, X_test, y_train, y_test = train_test_split(X, y, test_size=0.2, random_state=42)\n",
        "\n",
        "# Train model\n",
        "clf.fit(X_train, y_train)\n",
        "\n",
        "# Evaluate\n",
        "y_pred = clf.predict(X_test)\n",
        "print(\"\\n📊 Classification Report:\\n\")\n",
        "print(classification_report(y_test, y_pred))\n",
        "\n",
        "# Save model\n",
        "joblib.dump(clf, 'donor_ngo_match_model.pkl')\n",
        "print(\"✅ Model saved as donor_ngo_match_model.pkl\")\n"
      ],
      "metadata": {
        "colab": {
          "base_uri": "https://localhost:8080/"
        },
        "id": "zG1lV0OM0dHl",
        "outputId": "8f465d15-53bc-4e6a-9eae-3e2a272f9533"
      },
      "execution_count": 10,
      "outputs": [
        {
          "output_type": "stream",
          "name": "stdout",
          "text": [
            "\n",
            "📊 Classification Report:\n",
            "\n",
            "              precision    recall  f1-score   support\n",
            "\n",
            "           0       0.96      0.94      0.95       145\n",
            "           1       0.86      0.89      0.88        55\n",
            "\n",
            "    accuracy                           0.93       200\n",
            "   macro avg       0.91      0.92      0.91       200\n",
            "weighted avg       0.93      0.93      0.93       200\n",
            "\n",
            "✅ Model saved as donor_ngo_match_model.pkl\n"
          ]
        }
      ]
    },
    {
      "cell_type": "code",
      "source": [
        "import joblib\n",
        "import pandas as pd\n",
        "\n",
        "# Load saved model\n",
        "model = joblib.load(\"donor_ngo_match_model.pkl\")\n",
        "\n",
        "# Example input – replace these values with dynamic ones as needed\n",
        "donor_input = {\n",
        "    \"distance_km\": 10.8,\n",
        "    \"food_quantity\": 75,\n",
        "    \"ngo_capacity\": 50,\n",
        "    \"food_type\": \"veg\",\n",
        "    \"food_category\": \"cooked\",\n",
        "    \"accepts_nonveg\": 0,\n",
        "    \"time_until_expiry_hrs\": 8\n",
        "}\n",
        "\n",
        "# Convert to DataFrame\n",
        "input_df = pd.DataFrame([donor_input])\n",
        "\n",
        "# Predict\n",
        "prediction = model.predict(input_df)[0]\n",
        "probability = model.predict_proba(input_df)[0][1]  # Confidence score for class 1\n",
        "\n",
        "# Output result\n",
        "if prediction == 1:\n",
        "    print(f\"✅ Match Successful (Confidence: {probability:.2f})\")\n",
        "else:\n",
        "    print(f\"❌ Not a Suitable Match (Confidence: {probability:.2f})\")\n"
      ],
      "metadata": {
        "colab": {
          "base_uri": "https://localhost:8080/"
        },
        "id": "hdmBgoL30vVv",
        "outputId": "124a2a7d-9cb3-46c8-dff1-155d6c56a718"
      },
      "execution_count": 4,
      "outputs": [
        {
          "output_type": "stream",
          "name": "stdout",
          "text": [
            "❌ Not a Suitable Match (Confidence: 0.01)\n"
          ]
        }
      ]
    }
  ]
}